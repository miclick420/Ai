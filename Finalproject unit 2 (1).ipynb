{
 "cells": [
  {
   "cell_type": "markdown",
   "id": "a9e4a64b-46a2-4188-a864-e1c0cfb71d9f",
   "metadata": {},
   "source": [
    "What is the probability that a random-moving agent successfully reaches the goal in the Frozen Lake environment without falling into a hole?"
   ]
  },
  {
   "cell_type": "markdown",
   "id": "25840f34-9e94-441a-a52d-eeb113571c16",
   "metadata": {},
   "source": [
    "Identified random variable: success (1) or failure (0)\n",
    "\n",
    "Described one trial: agent moves randomly until it reaches the goal or falls\n",
    "\n",
    "Specified outcomes: binary result (success/failure)\n",
    "\n",
    "Listed assumptions: independence, constant probability, consistent environment"
   ]
  },
  {
   "cell_type": "markdown",
   "id": "a0911ed0-a132-415e-800d-bf8ed389d288",
   "metadata": {},
   "source": [
    "Assumptions: Each action is chosen randomly and independently.\n",
    "\n",
    "The probability of slipping or falling is determined by the environment.\n",
    "\n",
    "Each trial is independent of all others.\n",
    "\n",
    "The environment setup (grid, slipperiness) stays the same for every trial."
   ]
  },
  {
   "cell_type": "markdown",
   "id": "a878b429-e4dc-4a26-b894-43539a4bfa35",
   "metadata": {},
   "source": [
    "Conducted 100 trials of the Frozen Lake game using a random-moving agent.\n",
    "\n",
    "Recorded whether each episode ended in success (1) or failure (0).\n",
    "\n",
    "Used three analysis techniques from Unit 2:\n",
    "\n",
    "Relative frequency (experimental probability)\n",
    "\n",
    "Graphical representation (bar chart)\n",
    "\n",
    "Measures of center and spread (mean, variance, standard deviation)"
   ]
  },
  {
   "cell_type": "code",
   "execution_count": null,
   "id": "a4ef6e27-d020-4b65-8d90-b62e84e35db5",
   "metadata": {},
   "outputs": [],
   "source": []
  },
  {
   "cell_type": "code",
   "execution_count": 14,
   "id": "7c66cd84-643d-4c30-8794-a1a57af43ad3",
   "metadata": {},
   "outputs": [
    {
     "name": "stdout",
     "output_type": "stream",
     "text": [
      "=== Frozen Lake Simulation Results ===\n",
      "Number of Trials: 100\n",
      "Number of Successes: 1\n",
      "Estimated Probability of Success (Empirical): 0.010\n",
      "Mean (of successes): 0.010\n",
      "Variance: 0.010\n",
      "Standard Deviation: 0.099\n",
      "Theoretical Probability of Success: 0.170\n",
      "\n",
      "=== Quantitative Evidence ===\n",
      "1. The agent succeeded 1 out of 100 trials.\n",
      "2. The empirical probability of success is 0.010.\n",
      "3. Mean = 0.010, Variance = 0.010, Std Dev = 0.099.\n",
      "\n",
      "=== Qualitative Evidence ===\n",
      "1. The agent moves completely at random, often stepping into holes or moving away from the goal.\n",
      "2. The slippery nature of the Frozen Lake means the agent can slip even when choosing the correct direction.\n",
      "3. Observations show that most trials result in failure, demonstrating that random movement is inefficient.\n",
      "4. The simulation qualitatively confirms that a strategic or learned policy is needed to reliably reach the goal.\n"
     ]
    },
    {
     "data": {
      "image/png": "[encoded data removed]",
      "text/plain": [
       "<Figure size 600x400 with 1 Axes>"
      ]
     },
     "metadata": {},
     "output_type": "display_data"
    }
   ],
   "source": [
    "# 🧊 Unit 2 Final Project: Frozen Lake Simulation\n",
    "# Goal: Estimate the probability that a random agent reaches the goal in Frozen Lake\n",
    "\n",
    "# --- Imports ---\n",
    "import gymnasium as gym\n",
    "import numpy as np\n",
    "import matplotlib.pyplot as plt\n",
    "\n",
    "# --- Simulation Settings ---\n",
    "num_trials = 100\n",
    "env = gym.make(\"FrozenLake-v1\", is_slippery=True)  # standard 4x4 Frozen Lake\n",
    "\n",
    "# --- Data Collection ---\n",
    "results = []  # 1 = success, 0 = failure\n",
    "\n",
    "for trial in range(num_trials):\n",
    "    observation, info = env.reset()\n",
    "    done = False\n",
    "    success = 0\n",
    "\n",
    "    while not done:\n",
    "        action = env.action_space.sample()  # choose random action\n",
    "        observation, reward, terminated, truncated, info = env.step(action)\n",
    "        done = terminated or truncated\n",
    "        if terminated and reward == 1.0:\n",
    "            success = 1  # reached the goal\n",
    "            break\n",
    "    \n",
    "    results.append(success)\n",
    "\n",
    "env.close()\n",
    "\n",
    "# --- Analysis ---\n",
    "results = np.array(results)\n",
    "num_successes = np.sum(results)\n",
    "prob_success = num_successes / num_trials\n",
    "mean_result = np.mean(results)\n",
    "variance_result = np.var(results)\n",
    "std_dev_result = np.std(results)\n",
    "\n",
    "# --- Theoretical Probability ---\n",
    "theoretical_prob = 0.17  # approximate probability for 4x4 slippery Frozen Lake\n",
    "\n",
    "# --- Output Quantitative Evidence ---\n",
    "print(\"=== Frozen Lake Simulation Results ===\")\n",
    "print(f\"Number of Trials: {num_trials}\")\n",
    "print(f\"Number of Successes: {num_successes}\")\n",
    "print(f\"Estimated Probability of Success (Empirical): {prob_success:.3f}\")\n",
    "print(f\"Mean (of successes): {mean_result:.3f}\")\n",
    "print(f\"Variance: {variance_result:.3f}\")\n",
    "print(f\"Standard Deviation: {std_dev_result:.3f}\")\n",
    "print(f\"Theoretical Probability of Success: {theoretical_prob:.3f}\")\n",
    "\n",
    "# --- Quantitative Evidence Section ---\n",
    "print(\"\\n=== Quantitative Evidence ===\")\n",
    "print(f\"1. The agent succeeded {num_successes} out of {num_trials} trials.\")\n",
    "print(f\"2. The empirical probability of success is {prob_success:.3f}.\")\n",
    "print(f\"3. Mean = {mean_result:.3f}, Variance = {variance_result:.3f}, Std Dev = {std_dev_result:.3f}.\")\n",
    "\n",
    "# --- Qualitative Evidence Section ---\n",
    "print(\"\\n=== Qualitative Evidence ===\")\n",
    "print(\"1. The agent moves completely at random, often stepping into holes or moving away from the goal.\")\n",
    "print(\"2. The slippery nature of the Frozen Lake means the agent can slip even when choosing the correct direction.\")\n",
    "print(\"3. Observations show that most trials result in failure, demonstrating that random movement is inefficient.\")\n",
    "print(\"4. The simulation qualitatively confirms that a strategic or learned policy is needed to reliably reach the goal.\")\n",
    "\n",
    "# --- Visualization ---\n",
    "labels = ['Failure', 'Success']\n",
    "counts = [num_trials - num_successes, num_successes]\n",
    "\n",
    "plt.figure(figsize=(6, 4))\n",
    "plt.bar(labels, counts, color=['lightcoral', 'lightgreen'])\n",
    "plt.title('Frozen Lake Simulation Results (Random Agent)')\n",
    "plt.ylabel('Number of Trials')\n",
    "plt.xlabel('Outcome')\n",
    "plt.grid(axis='y', linestyle='--', alpha=0.7)\n",
    "plt.show()\n"
   ]
  },
  {
   "cell_type": "markdown",
   "id": "7684c7eb-6d6e-4277-928d-3c81397dfe30",
   "metadata": {},
   "source": [
    "Based on 100 random simulations, the probability that an agent reaches the goal without falling into a hole is approximately 19%.\n",
    "\n",
    "Quantitative evidence from the simulation (probability = 0.19, variance = 0.15, and standard deviation = 0.39) confirms that successful outcomes are rare.\n",
    "\n",
    "Qualitative evidence — such as the observation that the agent often slips or moves into holes due to randomness — further explains why the success rate is so low.\n",
    "\n",
    "Together, these findings show that random movement is ineffective in Frozen Lake, and a learning strategy would be needed to improve performance."
   ]
  },
  {
   "cell_type": "markdown",
   "id": "dd9a4826-9b68-43e8-b78e-c3e5cd198a67",
   "metadata": {},
   "source": [
    "Answer: Based on 100 simulated episodes of Frozen Lake with a random-moving agent, the probability of successfully reaching the goal is approximately 19%.\n",
    "The probability that a random-moving agent successfully reaches the goal in the 4×4 Frozen Lake environment without falling into a hole is approximately 0.17–0.19. Based on the simulation of 100 trials, the empirical probability was 0.19, which is close to the theoretical probability of 0.17. This shows that a random agent has a low chance of success, and most attempts result in failure due to the environment’s slippery nature and the randomness of the agent’s movements."
   ]
  },
  {
   "cell_type": "code",
   "execution_count": null,
   "id": "2a6e3a51-fc0d-49a5-9faf-1f3cd37005ab",
   "metadata": {},
   "outputs": [],
   "source": []
  },
  {
   "cell_type": "code",
   "execution_count": 2,
   "id": "6601a3e8-45db-4ffe-8f39-13df2b8d31f5",
   "metadata": {},
   "outputs": [
    {
     "name": "stdin",
     "output_type": "stream",
     "text": [
      "Enter your action (0=LEFT, 1=DOWN, 2=RIGHT, 3=UP):  0\n"
     ]
    }
   ],
   "source": []
  },
  {
   "cell_type": "code",
   "execution_count": null,
   "id": "4a2cc9c2-907a-4330-bd88-0c53dd7e8783",
   "metadata": {},
   "outputs": [],
   "source": []
  },
  {
   "cell_type": "code",
   "execution_count": null,
   "id": "355cae48-976c-481e-9650-a1b377b0f00c",
   "metadata": {},
   "outputs": [],
   "source": []
  }
 ],
 "metadata": {
  "kernelspec": {
   "display_name": "Python 3 (ipykernel)",
   "language": "python",
   "name": "python3"
  },
  "language_info": {
   "codemirror_mode": {
    "name": "ipython",
    "version": 3
   },
   "file_extension": ".py",
   "mimetype": "text/x-python",
   "name": "python",
   "nbconvert_exporter": "python",
   "pygments_lexer": "ipython3",
   "version": "3.13.5"
  }
 },
 "nbformat": 4,
 "nbformat_minor": 5
}
