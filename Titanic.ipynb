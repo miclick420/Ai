{
 "cells": [
  {
   "cell_type": "markdown",
   "id": "b62559aa-8159-4a30-986b-387d64c7cf85",
   "metadata": {},
   "source": [
    "How many passangers servived from 1st the titanic?"
   ]
  },
  {
   "cell_type": "markdown",
   "id": "56e57263-02c6-4ded-a2ea-1f8839471dd4",
   "metadata": {},
   "source": [
    "I think my study is retrospective. A retrospective study looks back at events that have already happened. The Titanic data set is historical; it contains data collected after the sinking of the Titanic. You are analyzing this past data to look for patterns, so this qualifies as a retrospective observational study.\n",
    "\n",
    "\n"
   ]
  },
  {
   "cell_type": "markdown",
   "id": "d0f7d1fa-b20d-4042-83c6-651413b258e0",
   "metadata": {},
   "source": [
    "A bias that can be produced is that not accounting for all people, because it's only ~800 people, not the full population of the Titanic."
   ]
  },
  {
   "cell_type": "code",
   "execution_count": 10,
   "id": "011515d7-5d68-4432-80e1-bcbb7e336481",
   "metadata": {},
   "outputs": [
    {
     "name": "stdout",
     "output_type": "stream",
     "text": [
      "Defaulting to user installation because normal site-packages is not writeable\n",
      "Looking in links: /usr/share/pip-wheels\n",
      "Requirement already satisfied: pandas in /opt/conda/envs/anaconda-panel-2023.05-py310/lib/python3.11/site-packages (2.0.3)\n",
      "Requirement already satisfied: python-dateutil>=2.8.2 in /opt/conda/envs/anaconda-panel-2023.05-py310/lib/python3.11/site-packages (from pandas) (2.8.2)\n",
      "Requirement already satisfied: pytz>=2020.1 in /opt/conda/envs/anaconda-panel-2023.05-py310/lib/python3.11/site-packages (from pandas) (2023.3.post1)\n",
      "Requirement already satisfied: tzdata>=2022.1 in /opt/conda/envs/anaconda-panel-2023.05-py310/lib/python3.11/site-packages (from pandas) (2023.3)\n",
      "Requirement already satisfied: numpy>=1.21.0 in /opt/conda/envs/anaconda-panel-2023.05-py310/lib/python3.11/site-packages (from pandas) (1.24.3)\n",
      "Requirement already satisfied: six>=1.5 in /opt/conda/envs/anaconda-panel-2023.05-py310/lib/python3.11/site-packages (from python-dateutil>=2.8.2->pandas) (1.16.0)\n"
     ]
    }
   ],
   "source": [
    "!pip install pandas"
   ]
  },
  {
   "cell_type": "code",
   "execution_count": 11,
   "id": "6e4b03e4-2ee7-4363-ad9f-f42f72a5026a",
   "metadata": {},
   "outputs": [],
   "source": [
    "import pandas as pd"
   ]
  },
  {
   "cell_type": "code",
   "execution_count": 12,
   "id": "eff8cf6d-63bc-4178-924b-a055b353f0eb",
   "metadata": {},
   "outputs": [
    {
     "data": {
      "text/html": [
       "<div>\n",
       "<style scoped>\n",
       "    .dataframe tbody tr th:only-of-type {\n",
       "        vertical-align: middle;\n",
       "    }\n",
       "\n",
       "    .dataframe tbody tr th {\n",
       "        vertical-align: top;\n",
       "    }\n",
       "\n",
       "    .dataframe thead th {\n",
       "        text-align: right;\n",
       "    }\n",
       "</style>\n",
       "<table border=\"1\" class=\"dataframe\">\n",
       "  <thead>\n",
       "    <tr style=\"text-align: right;\">\n",
       "      <th></th>\n",
       "      <th>survived</th>\n",
       "      <th>pclass</th>\n",
       "      <th>name</th>\n",
       "      <th>sex</th>\n",
       "      <th>age</th>\n",
       "      <th>fare</th>\n",
       "      <th>sibsp</th>\n",
       "      <th>parch</th>\n",
       "    </tr>\n",
       "  </thead>\n",
       "  <tbody>\n",
       "    <tr>\n",
       "      <th>0</th>\n",
       "      <td>0</td>\n",
       "      <td>3</td>\n",
       "      <td>Braund, Mr. Owen Harris</td>\n",
       "      <td>male</td>\n",
       "      <td>22.0</td>\n",
       "      <td>7.2500</td>\n",
       "      <td>1</td>\n",
       "      <td>0</td>\n",
       "    </tr>\n",
       "    <tr>\n",
       "      <th>1</th>\n",
       "      <td>1</td>\n",
       "      <td>1</td>\n",
       "      <td>Cumings, Mrs. John Bradley (Florence Briggs Th...</td>\n",
       "      <td>female</td>\n",
       "      <td>38.0</td>\n",
       "      <td>71.2833</td>\n",
       "      <td>1</td>\n",
       "      <td>0</td>\n",
       "    </tr>\n",
       "    <tr>\n",
       "      <th>2</th>\n",
       "      <td>1</td>\n",
       "      <td>3</td>\n",
       "      <td>Heikkinen, Miss. Laina</td>\n",
       "      <td>female</td>\n",
       "      <td>26.0</td>\n",
       "      <td>7.9250</td>\n",
       "      <td>0</td>\n",
       "      <td>0</td>\n",
       "    </tr>\n",
       "    <tr>\n",
       "      <th>3</th>\n",
       "      <td>1</td>\n",
       "      <td>1</td>\n",
       "      <td>Futrelle, Mrs. Jacques Heath (Lily May Peel)</td>\n",
       "      <td>female</td>\n",
       "      <td>35.0</td>\n",
       "      <td>53.1000</td>\n",
       "      <td>1</td>\n",
       "      <td>0</td>\n",
       "    </tr>\n",
       "    <tr>\n",
       "      <th>4</th>\n",
       "      <td>0</td>\n",
       "      <td>3</td>\n",
       "      <td>Allen, Mr. William Henry</td>\n",
       "      <td>male</td>\n",
       "      <td>35.0</td>\n",
       "      <td>8.0500</td>\n",
       "      <td>0</td>\n",
       "      <td>0</td>\n",
       "    </tr>\n",
       "    <tr>\n",
       "      <th>...</th>\n",
       "      <td>...</td>\n",
       "      <td>...</td>\n",
       "      <td>...</td>\n",
       "      <td>...</td>\n",
       "      <td>...</td>\n",
       "      <td>...</td>\n",
       "      <td>...</td>\n",
       "      <td>...</td>\n",
       "    </tr>\n",
       "    <tr>\n",
       "      <th>709</th>\n",
       "      <td>0</td>\n",
       "      <td>3</td>\n",
       "      <td>Rice, Mrs. William (Margaret Norton)</td>\n",
       "      <td>female</td>\n",
       "      <td>39.0</td>\n",
       "      <td>29.1250</td>\n",
       "      <td>0</td>\n",
       "      <td>5</td>\n",
       "    </tr>\n",
       "    <tr>\n",
       "      <th>710</th>\n",
       "      <td>0</td>\n",
       "      <td>2</td>\n",
       "      <td>Montvila, Rev. Juozas</td>\n",
       "      <td>male</td>\n",
       "      <td>27.0</td>\n",
       "      <td>13.0000</td>\n",
       "      <td>0</td>\n",
       "      <td>0</td>\n",
       "    </tr>\n",
       "    <tr>\n",
       "      <th>711</th>\n",
       "      <td>1</td>\n",
       "      <td>1</td>\n",
       "      <td>Graham, Miss. Margaret Edith</td>\n",
       "      <td>female</td>\n",
       "      <td>19.0</td>\n",
       "      <td>30.0000</td>\n",
       "      <td>0</td>\n",
       "      <td>0</td>\n",
       "    </tr>\n",
       "    <tr>\n",
       "      <th>712</th>\n",
       "      <td>1</td>\n",
       "      <td>1</td>\n",
       "      <td>Behr, Mr. Karl Howell</td>\n",
       "      <td>male</td>\n",
       "      <td>26.0</td>\n",
       "      <td>30.0000</td>\n",
       "      <td>0</td>\n",
       "      <td>0</td>\n",
       "    </tr>\n",
       "    <tr>\n",
       "      <th>713</th>\n",
       "      <td>0</td>\n",
       "      <td>3</td>\n",
       "      <td>Dooley, Mr. Patrick</td>\n",
       "      <td>male</td>\n",
       "      <td>32.0</td>\n",
       "      <td>7.7500</td>\n",
       "      <td>0</td>\n",
       "      <td>0</td>\n",
       "    </tr>\n",
       "  </tbody>\n",
       "</table>\n",
       "<p>714 rows × 8 columns</p>\n",
       "</div>"
      ],
      "text/plain": [
       "     survived  pclass                                               name  \\\n",
       "0           0       3                            Braund, Mr. Owen Harris   \n",
       "1           1       1  Cumings, Mrs. John Bradley (Florence Briggs Th...   \n",
       "2           1       3                             Heikkinen, Miss. Laina   \n",
       "3           1       1       Futrelle, Mrs. Jacques Heath (Lily May Peel)   \n",
       "4           0       3                           Allen, Mr. William Henry   \n",
       "..        ...     ...                                                ...   \n",
       "709         0       3               Rice, Mrs. William (Margaret Norton)   \n",
       "710         0       2                              Montvila, Rev. Juozas   \n",
       "711         1       1                       Graham, Miss. Margaret Edith   \n",
       "712         1       1                              Behr, Mr. Karl Howell   \n",
       "713         0       3                                Dooley, Mr. Patrick   \n",
       "\n",
       "        sex   age     fare  sibsp  parch  \n",
       "0      male  22.0   7.2500      1      0  \n",
       "1    female  38.0  71.2833      1      0  \n",
       "2    female  26.0   7.9250      0      0  \n",
       "3    female  35.0  53.1000      1      0  \n",
       "4      male  35.0   8.0500      0      0  \n",
       "..      ...   ...      ...    ...    ...  \n",
       "709  female  39.0  29.1250      0      5  \n",
       "710    male  27.0  13.0000      0      0  \n",
       "711  female  19.0  30.0000      0      0  \n",
       "712    male  26.0  30.0000      0      0  \n",
       "713    male  32.0   7.7500      0      0  \n",
       "\n",
       "[714 rows x 8 columns]"
      ]
     },
     "execution_count": 12,
     "metadata": {},
     "output_type": "execute_result"
    }
   ],
   "source": [
    "pd.read_csv(\"titanic.csv\")"
   ]
  },
  {
   "cell_type": "code",
   "execution_count": 23,
   "id": "2b13019b-bbd2-47b0-b479-fdb09ccb898f",
   "metadata": {},
   "outputs": [
    {
     "name": "stdout",
     "output_type": "stream",
     "text": [
      "11\n"
     ]
    }
   ],
   "source": [
    "num_samples = len(\"titanic.csv\")\n",
    "print(num_samples)"
   ]
  },
  {
   "cell_type": "code",
   "execution_count": 25,
   "id": "f003a39a-acfe-4e3c-ad41-41fd4b74e74b",
   "metadata": {},
   "outputs": [
    {
     "name": "stdout",
     "output_type": "stream",
     "text": [
      "c\n"
     ]
    }
   ],
   "source": [
    "print(\"titanic.csv\" [6])"
   ]
  },
  {
   "cell_type": "code",
   "execution_count": 26,
   "id": "c6bb8c34-94f7-47cc-a4a5-522790787a5f",
   "metadata": {},
   "outputs": [
    {
     "name": "stdout",
     "output_type": "stream",
     "text": [
      "Individuals who embarked from Queenstown (Q):\n"
     ]
    }
   ],
   "source": [
    "import pandas as pd\n",
    "\n",
    "# Load the titanic dataset from the CSV file\n",
    "titanic_data = pd.read_csv(\"titanic.csv\")\n",
    "\n",
    "print(\"Individuals who embarked from Queenstown (Q):\")\n",
    "for index, person in titanic_data.iterrows():\n",
    "    if person.get(\"embarked\") == \"Q\":  # Using get() method which works with pandas Series\n",
    "        # Print the name or \"Unknown Name\" if name is not available\n",
    "        print(person.get(\"name\", \"Unknown Name\"))\n",
    "\n"
   ]
  },
  {
   "cell_type": "code",
   "execution_count": 37,
   "id": "0f5c59b8-50c2-4363-91c4-99c3ec5e93d2",
   "metadata": {},
   "outputs": [
    {
     "data": {
      "text/plain": [
       "{'class': 'First Class',\n",
       " 'total_passengers': 325,\n",
       " 'survived': 202,\n",
       " 'survival_rate': '62%'}"
      ]
     },
     "execution_count": 37,
     "metadata": {},
     "output_type": "execute_result"
    }
   ],
   "source": [
    "{\n",
    "  \"class\": \"First Class\",\n",
    "  \"total_passengers\": 325,\n",
    "  \"survived\": 202,\n",
    "  \"survival_rate\": \"62%\"\n",
    "}\n"
   ]
  },
  {
   "cell_type": "code",
   "execution_count": 44,
   "id": "678d514c-d56b-437c-9b64-dc5e58bff599",
   "metadata": {},
   "outputs": [
    {
     "name": "stdout",
     "output_type": "stream",
     "text": [
      "          0       1                                                  2  \\\n",
      "0  survived  pclass                                               name   \n",
      "1         0       3                            Braund, Mr. Owen Harris   \n",
      "2         1       1  Cumings, Mrs. John Bradley (Florence Briggs Th...   \n",
      "3         1       3                             Heikkinen, Miss. Laina   \n",
      "4         1       1       Futrelle, Mrs. Jacques Heath (Lily May Peel)   \n",
      "5         0       3                           Allen, Mr. William Henry   \n",
      "6         0       1                            McCarthy, Mr. Timothy J   \n",
      "7         0       3                     Palsson, Master. Gosta Leonard   \n",
      "8         1       3  Johnson, Mrs. Oscar W (Elisabeth Vilhelmina Berg)   \n",
      "9         1       2                Nasser, Mrs. Nicholas (Adele Achem)   \n",
      "\n",
      "        3     4        5      6      7  \n",
      "0     sex   age     fare  sibsp  parch  \n",
      "1    male  22.0     7.25      1      0  \n",
      "2  female  38.0  71.2833      1      0  \n",
      "3  female  26.0    7.925      0      0  \n",
      "4  female  35.0     53.1      1      0  \n",
      "5    male  35.0     8.05      0      0  \n",
      "6    male  54.0  51.8625      0      0  \n",
      "7    male   2.0   21.075      3      1  \n",
      "8  female  27.0  11.1333      0      2  \n",
      "9  female  14.0  30.0708      1      0  \n",
      "Number of columns: 8\n"
     ]
    }
   ],
   "source": [
    "import pandas as pd\n",
    "\n",
    "# Load without assuming headers\n",
    "df = pd.read_csv(\"titanic.csv\", header=None)\n",
    "\n",
    "# Show first 10 rows so we can see what the data looks like\n",
    "print(df.head(10))\n",
    "\n",
    "# Show how many columns pandas detected\n",
    "print(\"Number of columns:\", df.shape[1])\n"
   ]
  },
  {
   "cell_type": "code",
   "execution_count": 2,
   "id": "ab89e131-bc72-4d76-a32c-ca6f697eb4f6",
   "metadata": {},
   "outputs": [
    {
     "name": "stdout",
     "output_type": "stream",
     "text": [
      "Total number of passengers: 714\n",
      "7th passenger: Palsson, Master. Gosta Leonard\n",
      "\n",
      "Individuals who embarked from Queenstown (Q):\n",
      "\n",
      "First Class Survival Rate: 65.59%\n"
     ]
    }
   ],
   "source": [
    "\n",
    "\n",
    "\n",
    "\n",
    "\n",
    "titanic_data = pd.read_csv(\"titanic.csv\")\n",
    "\n",
    "# Display total number of samples (rows)\n",
    "num_samples = len(titanic_data)\n",
    "print(\"Total number of passengers:\", num_samples)\n",
    "\n",
    "print(\"7th passenger:\", titanic_data.loc[6, 'name'])\n",
    "\n",
    "\n",
    "print(\"\\nIndividuals who embarked from Queenstown (Q):\")\n",
    "for index, person in titanic_data.iterrows():\n",
    "    if person.get(\"embarked\") == \"Q\":\n",
    "        print(person.get(\"name\", \"Unknown Name\"))\n",
    "\n",
    "\n",
    "first_class = titanic_data[titanic_data[\"pclass\"] == 1]\n",
    "total_fc = len(first_class)\n",
    "survived_fc = len(first_class[first_class[\"survived\"] == 1])\n",
    "survival_rate_fc = (survived_fc / total_fc) * 100\n",
    "\n",
    "print(f\"\\nFirst Class Survival Rate: {survival_rate_fc:.2f}%\")\n"
   ]
  },
  {
   "cell_type": "markdown",
   "id": "79dfc899-88ca-44d5-94d7-b0259fe972a7",
   "metadata": {},
   "source": [
    "\n",
    "Out of all the people in the first class 65.59% of he passangers servived. this number is much bigger then the other levels  "
   ]
  }
 ],
 "metadata": {
  "kernelspec": {
   "display_name": "anaconda-panel-2023.05-py310",
   "language": "python",
   "name": "conda-env-anaconda-panel-2023.05-py310-py"
  },
  "language_info": {
   "codemirror_mode": {
    "name": "ipython",
    "version": 3
   },
   "file_extension": ".py",
   "mimetype": "text/x-python",
   "name": "python",
   "nbconvert_exporter": "python",
   "pygments_lexer": "ipython3",
   "version": "3.11.5"
  }
 },
 "nbformat": 4,
 "nbformat_minor": 5
}
